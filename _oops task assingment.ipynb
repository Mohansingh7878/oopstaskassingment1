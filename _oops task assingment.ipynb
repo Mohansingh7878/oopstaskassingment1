{
 "cells": [
  {
   "cell_type": "markdown",
   "id": "ee4e4847-2208-45d1-8931-dcb83f8bf6fc",
   "metadata": {},
   "source": [
    "Q1, Create a vehicle class with an init method having instance variables as name_of_vehicle, max_speed\n",
    "and average_of_vehicle."
   ]
  },
  {
   "cell_type": "code",
   "execution_count": 1,
   "id": "db0fce9e-807a-4829-ad72-5f993de11619",
   "metadata": {},
   "outputs": [],
   "source": [
    "class vehicle :\n",
    "    def __init__(self,  name_of_vehicle , max_speed , avarage_of_vehicle) :\n",
    "        self.name_of_vehicle =name_of_vehicle \n",
    "        self.max_speed =max_speed \n",
    "        self.avarage_of_vehicle=avarage_of_vehicle\n",
    "        "
   ]
  },
  {
   "cell_type": "code",
   "execution_count": 2,
   "id": "3b3236dc-ff2d-4d26-b6e1-933590729011",
   "metadata": {},
   "outputs": [],
   "source": [
    "mahindra = vehicle(\"THAR\",\"180 KM/HR\" , \"12 KM/LTR.\")"
   ]
  },
  {
   "cell_type": "code",
   "execution_count": 3,
   "id": "d684c289-c416-4a1b-8d93-b9fed405580b",
   "metadata": {},
   "outputs": [
    {
     "data": {
      "text/plain": [
       "'THAR'"
      ]
     },
     "execution_count": 3,
     "metadata": {},
     "output_type": "execute_result"
    }
   ],
   "source": [
    "mahindra.name_of_vehicle"
   ]
  },
  {
   "cell_type": "code",
   "execution_count": 4,
   "id": "5e16ada4-d3e5-4045-ac93-86756843f136",
   "metadata": {},
   "outputs": [
    {
     "data": {
      "text/plain": [
       "'180 KM/HR'"
      ]
     },
     "execution_count": 4,
     "metadata": {},
     "output_type": "execute_result"
    }
   ],
   "source": [
    "mahindra.max_speed"
   ]
  },
  {
   "cell_type": "code",
   "execution_count": 5,
   "id": "36d5eecc-3cc5-48ee-8d4c-4effd3b093c4",
   "metadata": {},
   "outputs": [
    {
     "data": {
      "text/plain": [
       "'12 KM/LTR.'"
      ]
     },
     "execution_count": 5,
     "metadata": {},
     "output_type": "execute_result"
    }
   ],
   "source": [
    "mahindra.avarage_of_vehicle"
   ]
  },
  {
   "cell_type": "markdown",
   "id": "ac1f11a5-1b51-4464-8829-d5158426304b",
   "metadata": {},
   "source": [
    "Q2. Create a child class car from the vehicle class created in Que 1, which will inherit the vehicle class.\n",
    "Create a method named seating_capacity which takes capacity as an argument and returns the name of\n",
    "the vehicle and its seating capacity."
   ]
  },
  {
   "cell_type": "code",
   "execution_count": 32,
   "id": "1e6bae37-047d-4af1-805f-7ab419dce927",
   "metadata": {},
   "outputs": [],
   "source": [
    "class vehicle :\n",
    "    def __init__(self,  name_of_vehicle , max_speed , avarage_of_vehicle) :\n",
    "        self.name_of_vehicle =name_of_vehicle \n",
    "        self.max_speed =max_speed \n",
    "        self.avarage_of_vehicle=avarage_of_vehicle\n",
    "            \n",
    "    def seating_capacity(self ,name_of_vehicle ,seat_cap):\n",
    "        self.name_of_vehicle = name_of_vehicle\n",
    "        self.seat_cap = seat_cap"
   ]
  },
  {
   "cell_type": "code",
   "execution_count": 33,
   "id": "0464a61e-1cd3-4147-865f-b55d17e967ee",
   "metadata": {},
   "outputs": [],
   "source": [
    "class car(vehicle):\n",
    "    pass\n",
    "    \n",
    "        "
   ]
  },
  {
   "cell_type": "code",
   "execution_count": 34,
   "id": "d14d6c1b-63a5-40dd-b6f3-0429d54faa68",
   "metadata": {},
   "outputs": [],
   "source": [
    "four_vehicle = car('THAR', \"170 KM/H\" ,\"12 KM/LTR.\")"
   ]
  },
  {
   "cell_type": "code",
   "execution_count": 24,
   "id": "59337749-de62-45d9-b7bd-69800af39504",
   "metadata": {},
   "outputs": [
    {
     "data": {
      "text/plain": [
       "'THAR'"
      ]
     },
     "execution_count": 24,
     "metadata": {},
     "output_type": "execute_result"
    }
   ],
   "source": [
    "four_vehicle.name_of_vehicle\n"
   ]
  },
  {
   "cell_type": "code",
   "execution_count": 36,
   "id": "c4090648-c215-4ef4-a6cf-a88162023857",
   "metadata": {},
   "outputs": [],
   "source": [
    "four_vehicle.seating_capacity(\"THAR\",4)"
   ]
  },
  {
   "cell_type": "code",
   "execution_count": 37,
   "id": "4cd83c19-1742-4fcb-88be-ec2ec873595f",
   "metadata": {},
   "outputs": [
    {
     "data": {
      "text/plain": [
       "4"
      ]
     },
     "execution_count": 37,
     "metadata": {},
     "output_type": "execute_result"
    }
   ],
   "source": [
    "four_vehicle.seat_cap"
   ]
  },
  {
   "cell_type": "markdown",
   "id": "261c0619-6ed0-4eea-9fe0-cc6308f9a6db",
   "metadata": {},
   "source": [
    "Q3. What is multiple inheritance? Write a python code to demonstrate multiple inheritance."
   ]
  },
  {
   "cell_type": "markdown",
   "id": "16efe683-bc7a-4282-b8f0-0cacd4f67258",
   "metadata": {},
   "source": [
    "ANSWER :---   if a child class inherits from more than one class ."
   ]
  },
  {
   "cell_type": "code",
   "execution_count": 38,
   "id": "0bee1fe9-01ff-4d8a-b180-d5065d607775",
   "metadata": {},
   "outputs": [],
   "source": [
    "class pwskills :\n",
    "        def data_science_master(self):\n",
    "            return\"this class is make for dataa science master .\"\n"
   ]
  },
  {
   "cell_type": "code",
   "execution_count": 39,
   "id": "552ea5fa-13f1-4f3a-830a-039414df21f6",
   "metadata": {},
   "outputs": [],
   "source": [
    "class pwskills1 :\n",
    "    def web_devlop(self):\n",
    "        return\"this class is make for web devlop course \""
   ]
  },
  {
   "cell_type": "code",
   "execution_count": 41,
   "id": "33a4f53c-bd1e-42f7-8497-b01efbb10c3e",
   "metadata": {},
   "outputs": [],
   "source": [
    "class pwskills2(pwskills , pwskills1):\n",
    "    pass"
   ]
  },
  {
   "cell_type": "code",
   "execution_count": 43,
   "id": "79e640f2-b06f-4fa7-aff0-b05043d8725c",
   "metadata": {},
   "outputs": [],
   "source": [
    "pw = pwskills2()"
   ]
  },
  {
   "cell_type": "code",
   "execution_count": 45,
   "id": "9a88e791-2a94-4038-b18a-1163c1159091",
   "metadata": {},
   "outputs": [
    {
     "data": {
      "text/plain": [
       "'this class is make for dataa science master .'"
      ]
     },
     "execution_count": 45,
     "metadata": {},
     "output_type": "execute_result"
    }
   ],
   "source": [
    "pw.data_science_master()"
   ]
  },
  {
   "cell_type": "code",
   "execution_count": 46,
   "id": "fb0a08e3-4a46-4020-8dcc-0cd535d4c89c",
   "metadata": {},
   "outputs": [
    {
     "data": {
      "text/plain": [
       "'this class is make for web devlop course '"
      ]
     },
     "execution_count": 46,
     "metadata": {},
     "output_type": "execute_result"
    }
   ],
   "source": [
    "pw.web_devlop()"
   ]
  },
  {
   "cell_type": "markdown",
   "id": "64d1248c-5517-47d2-94d7-cb44eb39f178",
   "metadata": {},
   "source": [
    "Q4. What are getter and setter in python? Create a class and create a getter and a setter method in this\n",
    "class."
   ]
  },
  {
   "cell_type": "markdown",
   "id": "a058ba8b-a39b-4186-8f92-47e0a9d9bb5c",
   "metadata": {},
   "source": [
    "ANSWER :--\n",
    "Getter: A method that allows you to access an attribute in a given class.\n",
    "Setter: A method that allows you to set or mutate the value of an attribute in a class.\n"
   ]
  },
  {
   "cell_type": "code",
   "execution_count": 93,
   "id": "f868bb44-1e0e-4ed7-a55d-1a93d6cd5e78",
   "metadata": {},
   "outputs": [],
   "source": [
    "class car :\n",
    "    def __init__(self , car_name , car_price):\n",
    "        self.car_name = car_name\n",
    "        self.__car_price = car_price\n",
    "        \n",
    "    @property\n",
    "    def car_price_reveal(self):\n",
    "        return self.__car_price\n",
    "    @car_price_reveal.setter\n",
    "    def car_price_fix(self , price):\n",
    "        if price <=2000000:\n",
    "            pass\n",
    "        else:\n",
    "            self.__car_price = price"
   ]
  },
  {
   "cell_type": "code",
   "execution_count": 94,
   "id": "ead64be3-6851-4c1d-baff-be1a5fbf160e",
   "metadata": {},
   "outputs": [],
   "source": [
    "cr = car(\"xuv200\" , 2000000)"
   ]
  },
  {
   "cell_type": "code",
   "execution_count": 95,
   "id": "e73b51d0-ab7d-49c3-9857-316a845991a2",
   "metadata": {},
   "outputs": [
    {
     "data": {
      "text/plain": [
       "2000000"
      ]
     },
     "execution_count": 95,
     "metadata": {},
     "output_type": "execute_result"
    }
   ],
   "source": [
    "cr.car_price_reveal\n"
   ]
  },
  {
   "cell_type": "code",
   "execution_count": 96,
   "id": "5f2703dd-990d-4b5a-a76e-c31ef41fa3ae",
   "metadata": {},
   "outputs": [],
   "source": [
    "cr.car_price_fix = 24000000"
   ]
  },
  {
   "cell_type": "code",
   "execution_count": 97,
   "id": "2a222f6a-163b-453f-84ec-0eb0efdfa649",
   "metadata": {},
   "outputs": [
    {
     "data": {
      "text/plain": [
       "24000000"
      ]
     },
     "execution_count": 97,
     "metadata": {},
     "output_type": "execute_result"
    }
   ],
   "source": [
    "cr.car_price_reveal"
   ]
  },
  {
   "cell_type": "markdown",
   "id": "b777e922-be9b-4a88-aaed-49fae1a080c2",
   "metadata": {},
   "source": [
    "Q5.What is method overriding in python? Write a python code to demonstrate method overriding."
   ]
  },
  {
   "cell_type": "markdown",
   "id": "167a1a56-fce4-4512-a9d1-04b2dea6a339",
   "metadata": {},
   "source": [
    "ANSWER:---\n",
    "Method overriding is a feature of object-oriented programming languages where the subclass or child class can provide the program with specific characteristics or a specific implementation process of data provided that are already defined in the parent class or superclass."
   ]
  },
  {
   "cell_type": "code",
   "execution_count": 119,
   "id": "46184abc-9806-4d82-b590-e42649016db5",
   "metadata": {},
   "outputs": [],
   "source": [
    "class perent :\n",
    "    def perent_test(self):\n",
    "        return\"this is my perent class \""
   ]
  },
  {
   "cell_type": "code",
   "execution_count": 120,
   "id": "6aba5d7e-066e-4e55-96fc-09af8be425be",
   "metadata": {},
   "outputs": [],
   "source": [
    "class child (perent):\n",
    "    pass"
   ]
  },
  {
   "cell_type": "code",
   "execution_count": 121,
   "id": "c319a8cc-22f8-4c6f-9604-a5ddc64ad0ab",
   "metadata": {},
   "outputs": [],
   "source": [
    "chld = child()"
   ]
  },
  {
   "cell_type": "code",
   "execution_count": 122,
   "id": "a16902c9-3e05-4570-a236-772db37c3da3",
   "metadata": {},
   "outputs": [
    {
     "data": {
      "text/plain": [
       "'this is my perent class '"
      ]
     },
     "execution_count": 122,
     "metadata": {},
     "output_type": "execute_result"
    }
   ],
   "source": [
    "chld.perent_test()"
   ]
  },
  {
   "cell_type": "code",
   "execution_count": null,
   "id": "1532633a-ae5c-462e-91fc-b88dac741f72",
   "metadata": {},
   "outputs": [],
   "source": []
  },
  {
   "cell_type": "code",
   "execution_count": null,
   "id": "73814421-53d5-4f88-9339-e67ecd08a550",
   "metadata": {},
   "outputs": [],
   "source": []
  },
  {
   "cell_type": "code",
   "execution_count": null,
   "id": "aa475c13-bf5b-453c-8c06-f20052dad212",
   "metadata": {},
   "outputs": [],
   "source": []
  },
  {
   "cell_type": "code",
   "execution_count": null,
   "id": "16ee8dd4-89d7-42c0-bc0d-d8832659abb6",
   "metadata": {},
   "outputs": [],
   "source": []
  },
  {
   "cell_type": "code",
   "execution_count": null,
   "id": "caf1ea87-968b-4067-a43a-af7240bdd188",
   "metadata": {},
   "outputs": [],
   "source": []
  },
  {
   "cell_type": "code",
   "execution_count": null,
   "id": "a94baa3b-4785-4d03-8739-48262e2af069",
   "metadata": {},
   "outputs": [],
   "source": []
  },
  {
   "cell_type": "code",
   "execution_count": null,
   "id": "689568cb-35b7-49ca-90c9-4b433d281374",
   "metadata": {},
   "outputs": [],
   "source": []
  },
  {
   "cell_type": "code",
   "execution_count": null,
   "id": "e9ac69a8-3a8d-4274-b9ff-987a2c97f138",
   "metadata": {},
   "outputs": [],
   "source": []
  },
  {
   "cell_type": "code",
   "execution_count": null,
   "id": "63748a02-dd13-42eb-bc8e-b4acadd2a331",
   "metadata": {},
   "outputs": [],
   "source": []
  },
  {
   "cell_type": "code",
   "execution_count": null,
   "id": "607629aa-40fc-4ade-89c9-4be7b6827e8c",
   "metadata": {},
   "outputs": [],
   "source": []
  },
  {
   "cell_type": "code",
   "execution_count": null,
   "id": "edfa6d8f-a15c-469c-a6ce-0a6ec390bae4",
   "metadata": {},
   "outputs": [],
   "source": []
  },
  {
   "cell_type": "code",
   "execution_count": null,
   "id": "2ab643e3-b600-4710-b5e6-d46edc5995d8",
   "metadata": {},
   "outputs": [],
   "source": []
  },
  {
   "cell_type": "code",
   "execution_count": null,
   "id": "fc6536b9-b30f-4f59-a240-404c15a9f784",
   "metadata": {},
   "outputs": [],
   "source": []
  },
  {
   "cell_type": "code",
   "execution_count": null,
   "id": "00bf299b-5f81-4317-87a3-e3040480e7fc",
   "metadata": {},
   "outputs": [],
   "source": []
  },
  {
   "cell_type": "code",
   "execution_count": null,
   "id": "e05b7990-1712-4c20-a827-01dd61f0a201",
   "metadata": {},
   "outputs": [],
   "source": []
  },
  {
   "cell_type": "code",
   "execution_count": null,
   "id": "42ce9a39-1535-459a-9f35-941d84ba19e3",
   "metadata": {},
   "outputs": [],
   "source": []
  },
  {
   "cell_type": "code",
   "execution_count": null,
   "id": "f8b1698d-91b9-4050-a08f-a952b462b35f",
   "metadata": {},
   "outputs": [],
   "source": []
  },
  {
   "cell_type": "code",
   "execution_count": null,
   "id": "baa60256-9ff6-42e2-b4c7-116ed02ef431",
   "metadata": {},
   "outputs": [],
   "source": []
  }
 ],
 "metadata": {
  "kernelspec": {
   "display_name": "Python 3 (ipykernel)",
   "language": "python",
   "name": "python3"
  },
  "language_info": {
   "codemirror_mode": {
    "name": "ipython",
    "version": 3
   },
   "file_extension": ".py",
   "mimetype": "text/x-python",
   "name": "python",
   "nbconvert_exporter": "python",
   "pygments_lexer": "ipython3",
   "version": "3.10.8"
  }
 },
 "nbformat": 4,
 "nbformat_minor": 5
}
